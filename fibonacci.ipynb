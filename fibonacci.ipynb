{
  "nbformat": 4,
  "nbformat_minor": 0,
  "metadata": {
    "colab": {
      "name": "fibonacci",
      "provenance": [],
      "collapsed_sections": [],
      "authorship_tag": "ABX9TyN8DrckdWtMx2eKBE4Didxl",
      "include_colab_link": true
    },
    "kernelspec": {
      "name": "python3",
      "display_name": "Python 3"
    }
  },
  "cells": [
    {
      "cell_type": "markdown",
      "metadata": {
        "id": "view-in-github",
        "colab_type": "text"
      },
      "source": [
        "<a href=\"https://colab.research.google.com/github/09cc/dongshan09ccAI/blob/master/fibonacci.ipynb\" target=\"_parent\"><img src=\"https://colab.research.google.com/assets/colab-badge.svg\" alt=\"Open In Colab\"/></a>"
      ]
    },
    {
      "cell_type": "code",
      "metadata": {
        "id": "wPzT4IBS9Buc",
        "outputId": "4deb636f-c7b1-4e6b-c143-c66f11242e94",
        "colab": {
          "base_uri": "https://localhost:8080/",
          "height": 187
        }
      },
      "source": [
        "def fibonacci(n):    \n",
        "    if n==0:\n",
        "        return 0\n",
        "    if n==1:\n",
        "        return 1\n",
        "    return fibonacci(n-1)+fibonacci(n-2)\n",
        "\n",
        "print (fibonacci(0))\n",
        "print (fibonacci(1))\n",
        "print (fibonacci(2))\n",
        "print (fibonacci(3))\n",
        "print (fibonacci(4))\n",
        "print (fibonacci(5))\n",
        "print (fibonacci(6))\n",
        "print (fibonacci(7))\n",
        "print (fibonacci(8))\n",
        "print (fibonacci(9))"
      ],
      "execution_count": 30,
      "outputs": [
        {
          "output_type": "stream",
          "text": [
            "0\n",
            "1\n",
            "1\n",
            "2\n",
            "3\n",
            "5\n",
            "8\n",
            "13\n",
            "21\n",
            "34\n"
          ],
          "name": "stdout"
        }
      ]
    },
    {
      "cell_type": "code",
      "metadata": {
        "id": "WsiVG4MRJ0RP",
        "outputId": "a783bd83-ba4d-4279-8c6e-1c5509bf9bc6",
        "colab": {
          "base_uri": "https://localhost:8080/",
          "height": 34
        }
      },
      "source": [
        "def fibonacci(n):\n",
        "    if n==0:\n",
        "        return 0\n",
        "    if n==1:\n",
        "        return 1\n",
        "    return fibonacci(n-1)+fibonacci(n-2)\n",
        "n=12\n",
        "fibon=fibonacci(n)\n",
        "print('第{}個月,有{}隻兔子'.format(n,fibon*2))\n"
      ],
      "execution_count": 55,
      "outputs": [
        {
          "output_type": "stream",
          "text": [
            "第12個月,有288隻兔子\n"
          ],
          "name": "stdout"
        }
      ]
    }
  ]
}