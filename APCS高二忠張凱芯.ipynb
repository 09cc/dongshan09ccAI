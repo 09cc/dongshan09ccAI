{
  "nbformat": 4,
  "nbformat_minor": 0,
  "metadata": {
    "colab": {
      "name": "APCS高二忠張凱芯",
      "provenance": [],
      "collapsed_sections": [],
      "authorship_tag": "ABX9TyPMO6z1DVyHBmA1nr7FxO6/",
      "include_colab_link": true
    },
    "kernelspec": {
      "name": "python3",
      "display_name": "Python 3"
    }
  },
  "cells": [
    {
      "cell_type": "markdown",
      "metadata": {
        "id": "view-in-github",
        "colab_type": "text"
      },
      "source": [
        "<a href=\"https://colab.research.google.com/github/09cc/dongshan09ccAI/blob/master/APCS%E9%AB%98%E4%BA%8C%E5%BF%A0%E5%BC%B5%E5%87%B1%E8%8A%AF.ipynb\" target=\"_parent\"><img src=\"https://colab.research.google.com/assets/colab-badge.svg\" alt=\"Open In Colab\"/></a>"
      ]
    },
    {
      "cell_type": "code",
      "metadata": {
        "id": "pim4TO6Ennjs",
        "outputId": "12672477-ebb9-49f5-a9f1-a9fec4a9d0ba",
        "colab": {
          "base_uri": "https://localhost:8080/",
          "height": 34
        }
      },
      "source": [
        "a=[]\n",
        "b=[]\n",
        "\n",
        "a.append(0)\n",
        "b.append(0)\n",
        "\n",
        "for i in range(1,101):\n",
        "    b.append(i)\n",
        "\n",
        "for j in range (1,100):\n",
        "    a.append(b[j]+a[j-1])\n",
        "\n",
        "print(a[50]-a[30])\n",
        " \n"
      ],
      "execution_count": 2,
      "outputs": [
        {
          "output_type": "stream",
          "text": [
            "810\n"
          ],
          "name": "stdout"
        }
      ]
    }
  ]
}